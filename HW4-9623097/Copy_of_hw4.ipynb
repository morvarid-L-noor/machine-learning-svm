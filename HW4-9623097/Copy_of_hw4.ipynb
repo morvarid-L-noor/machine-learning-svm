{
  "nbformat": 4,
  "nbformat_minor": 0,
  "metadata": {
    "colab": {
      "name": "Copy of hw4.ipynb",
      "provenance": [],
      "collapsed_sections": []
    },
    "kernelspec": {
      "name": "python3",
      "display_name": "Python 3"
    }
  },
  "cells": [
    {
      "cell_type": "markdown",
      "metadata": {
        "id": "o7hPXoesvKbB"
      },
      "source": [
        "**1-a:**"
      ]
    },
    {
      "cell_type": "code",
      "metadata": {
        "id": "94lnNj65Cnmo"
      },
      "source": [
        "import numpy as np\r\n",
        "import pandas as pd\r\n",
        "from sklearn import svm\r\n",
        "from sklearn import metrics\r\n",
        "import matplotlib.pyplot as plt\r\n",
        "import seaborn as sns\r\n",
        "from sklearn.model_selection import train_test_split\r\n",
        "from sklearn.svm import SVC\r\n",
        "from sklearn.metrics import accuracy_score\r\n",
        "from sklearn.metrics import classification_report, confusion_matrix\r\n",
        "%matplotlib inline"
      ],
      "execution_count": 1,
      "outputs": []
    },
    {
      "cell_type": "code",
      "metadata": {
        "id": "TIwSg34FvJge"
      },
      "source": [
        "X = np.transpose(np.array([[2, -1],\r\n",
        "                           [1, -3],\r\n",
        "                           [-1, 3],\r\n",
        "                           [-2, 2],\r\n",
        "                           [-3, 0],\r\n",
        "                           [-1, -1],\r\n",
        "                           [-1, -2],#-----------------\r\n",
        "                           [4, 1],\r\n",
        "                           [4, 4],\r\n",
        "                           [1, 4],\r\n",
        "                           [-5, 1],\r\n",
        "                           [-4.5, 5],\r\n",
        "                           [-4, 4],\r\n",
        "                           [-4, -2],\r\n",
        "                           [-3, -4],\r\n",
        "                           [1, -5]]))\r\n",
        "y = np.array([1,1,1,1,1,1,1,-1,-1,-1,-1,-1,-1,-1,-1,-1])\r\n",
        "\r\n",
        "X_test = np.transpose(np.array([[1, 1],[1, 2],[4, -4],[5, -2]]))\r\n",
        "y_test =  np.array([1,1,-1,-1])"
      ],
      "execution_count": 2,
      "outputs": []
    },
    {
      "cell_type": "code",
      "metadata": {
        "id": "P1X8Eq3nl_jm"
      },
      "source": [
        "def define_y(x):\r\n",
        "    y=[]\r\n",
        "    for i in range(np.shape(x)[0]):\r\n",
        "        if(x[i][0])<1:\r\n",
        "            y.append(-1)\r\n",
        "        else:\r\n",
        "            y.append(1)\r\n",
        "    return y"
      ],
      "execution_count": 9,
      "outputs": []
    },
    {
      "cell_type": "code",
      "metadata": {
        "id": "n-Rl420Pl8Z2"
      },
      "source": [
        "#train matrix : first element of each row = r  ,  second element in each row = theta\r\n",
        "polar_train=np.random.rand(100,2)*[2,np.pi*2]\r\n",
        "polar_test=np.random.rand(20,2)*[2,np.pi*2]\r\n",
        "y_train=labeling(polar_train)\r\n",
        "y_test=labeling(polar_test)\r\n",
        "train=np.transpose([polar_train[:,0]*np.cos(polar_train[:,1]),polar_train[:,0]*np.sin(polar_train[:,1])])\r\n",
        "test=np.transpose([polar_test[:,0]*np.cos(polar_test[:,1]),polar_test[:,0]*np.sin(polar_test[:,1])])"
      ],
      "execution_count": 38,
      "outputs": []
    },
    {
      "cell_type": "code",
      "metadata": {
        "colab": {
          "base_uri": "https://localhost:8080/",
          "height": 286
        },
        "id": "5pbpMW2Rx_Yq",
        "outputId": "280d769e-3e04-4f74-f04a-b841c2cbb5aa"
      },
      "source": [
        "linear_clf=svm.LinearSVC()\r\n",
        "linear_clf.fit(train,y_train)\r\n",
        "\r\n",
        "x=np.linspace(-3,3,30)\r\n",
        "y=np.linspace(-3,3,30)\r\n",
        "xx,yy=np.meshgrid(x,y)\r\n",
        "xy=np.vstack([np.ravel(xx),np.ravel(yy)]).T\r\n",
        "z=linear_clf.decision_function(xy).reshape(30,30)\r\n",
        "plt.contour(xx,yy,z,levels=1,colors='k')\r\n",
        "plt.scatter(train[:,0],train[:,1],c=y_train,s=60)\r\n",
        "#plt.scatter(linear_clf.support_vectors_[:,0],linear_clf.support_vectors_[:,1],linewidths=1.5,edgecolors='k',facecolor='none',s=75)\r\n",
        "plt.xlim(-2,2)\r\n",
        "plt.ylim(-2,2)"
      ],
      "execution_count": 46,
      "outputs": [
        {
          "output_type": "execute_result",
          "data": {
            "text/plain": [
              "(-2.0, 2.0)"
            ]
          },
          "metadata": {
            "tags": []
          },
          "execution_count": 46
        },
        {
          "output_type": "display_data",
          "data": {
            "image/png": "[encoded data removed]",
            "text/plain": [
              "<Figure size 432x288 with 1 Axes>"
            ]
          },
          "metadata": {
            "tags": [],
            "needs_background": "light"
          }
        }
      ]
    },
    {
      "cell_type": "code",
      "metadata": {
        "id": "6BvNn3a0oGA6"
      },
      "source": [
        "y_train=define_y(train)\r\n",
        "y_test=define_y(test)"
      ],
      "execution_count": 39,
      "outputs": []
    },
    {
      "cell_type": "code",
      "metadata": {
        "colab": {
          "base_uri": "https://localhost:8080/"
        },
        "id": "Tg7V1nvOpS7m",
        "outputId": "2c0d1976-d4dd-4069-867d-d4f801014293"
      },
      "source": [
        "model=svm.LinearSVC()\r\n",
        "model.fit(train,y_train)\r\n"
      ],
      "execution_count": 40,
      "outputs": [
        {
          "output_type": "execute_result",
          "data": {
            "text/plain": [
              "LinearSVC(C=1.0, class_weight=None, dual=True, fit_intercept=True,\n",
              "          intercept_scaling=1, loss='squared_hinge', max_iter=1000,\n",
              "          multi_class='ovr', penalty='l2', random_state=None, tol=0.0001,\n",
              "          verbose=0)"
            ]
          },
          "metadata": {
            "tags": []
          },
          "execution_count": 40
        }
      ]
    },
    {
      "cell_type": "code",
      "metadata": {
        "colab": {
          "base_uri": "https://localhost:8080/"
        },
        "id": "8jomTDIjmNUx",
        "outputId": "6855e6f2-7ab4-4a41-d9e9-bc6f2331f430"
      },
      "source": [
        "print(\"train accuracy : \",metrics.accuracy_score(y_train, model.predict(train)))\r\n",
        "print(\"test accuracy : \",metrics.accuracy_score(y_test, model.predict(test)))"
      ],
      "execution_count": 41,
      "outputs": [
        {
          "output_type": "stream",
          "text": [
            "train accuracy :  0.98\n",
            "test accuracy :  0.95\n"
          ],
          "name": "stdout"
        }
      ]
    },
    {
      "cell_type": "code",
      "metadata": {
        "colab": {
          "base_uri": "https://localhost:8080/",
          "height": 286
        },
        "id": "tYFBMVtYmQLw",
        "outputId": "85ad58f1-314a-4aaa-c57e-11014dd4e354"
      },
      "source": [
        "x=np.linspace(-3,3,30)\r\n",
        "y=np.linspace(-3,3,30)\r\n",
        "xx,yy=np.meshgrid(x,y)\r\n",
        "xy=np.vstack([np.ravel(xx),np.ravel(yy)]).T\r\n",
        "z=model.decision_function(xy).reshape(30,30)\r\n",
        "plt.contour(xx,yy,z,levels=1)\r\n",
        "plt.scatter(train[:,0],train[:,1],c=y_train,s=60)\r\n",
        "plt.xlim(-2,2)\r\n",
        "plt.ylim(-2,2)"
      ],
      "execution_count": 47,
      "outputs": [
        {
          "output_type": "execute_result",
          "data": {
            "text/plain": [
              "(-2.0, 2.0)"
            ]
          },
          "metadata": {
            "tags": []
          },
          "execution_count": 47
        },
        {
          "output_type": "display_data",
          "data": {
            "image/png": "[encoded data removed]",
            "text/plain": [
              "<Figure size 432x288 with 1 Axes>"
            ]
          },
          "metadata": {
            "tags": [],
            "needs_background": "light"
          }
        }
      ]
    },
    {
      "cell_type": "code",
      "metadata": {
        "colab": {
          "base_uri": "https://localhost:8080/"
        },
        "id": "5B_3NtoMmT4F",
        "outputId": "ef8530b4-03c4-4126-ed80-74fcac34483b"
      },
      "source": [
        "sv_index=np.where(np.abs(model.decision_function(train))<.03)[0]\r\n",
        "for i in sv_index:\r\n",
        "    plt.scatter(train[i][0],train[i][1],facecolors='none',s=80,linewidths=3)\r\n",
        "plt.scatter(train[:,0],train[:,1],c=y_train,s=60)\r\n",
        "plt.contour(xx,yy,z,levels=1)"
      ],
      "execution_count": 48,
      "outputs": [
        {
          "output_type": "execute_result",
          "data": {
            "text/plain": [
              "<matplotlib.contour.QuadContourSet at 0x7f4b1baa59e8>"
            ]
          },
          "metadata": {
            "tags": []
          },
          "execution_count": 48
        },
        {
          "output_type": "display_data",
          "data": {
            "image/png": "[encoded data removed]",
            "text/plain": [
              "<Figure size 432x288 with 1 Axes>"
            ]
          },
          "metadata": {
            "tags": [],
            "needs_background": "light"
          }
        }
      ]
    },
    {
      "cell_type": "markdown",
      "metadata": {
        "id": "Eg63rqVGmYjv"
      },
      "source": [
        "**1-b :**"
      ]
    },
    {
      "cell_type": "code",
      "metadata": {
        "id": "t_f6y-6QmdjO"
      },
      "source": [
        "from sklearn.model_selection import cross_val_score\r\n",
        "ac=[]\r\n",
        "c = []\r\n",
        "for i in range(1,200):\r\n",
        "    soft_model=svm.SVC(kernel='linear',C=i/100)\r\n",
        "    acc=np.mean(cross_val_score(soft_model,train,y_train))\r\n",
        "    ac.append(acc)\r\n",
        "    c.append(i/100)"
      ],
      "execution_count": 21,
      "outputs": []
    },
    {
      "cell_type": "code",
      "metadata": {
        "colab": {
          "base_uri": "https://localhost:8080/",
          "height": 282
        },
        "id": "p0lggGAVrCHU",
        "outputId": "544ad0ce-9c24-4000-8e2f-048f83c33109"
      },
      "source": [
        "import matplotlib.pyplot as plt\r\n",
        "plt.plot(c,ac)"
      ],
      "execution_count": 22,
      "outputs": [
        {
          "output_type": "execute_result",
          "data": {
            "text/plain": [
              "[<matplotlib.lines.Line2D at 0x7f4b1bea7eb8>]"
            ]
          },
          "metadata": {
            "tags": []
          },
          "execution_count": 22
        },
        {
          "output_type": "display_data",
          "data": {
            "image/png": "[encoded data removed]",
            "text/plain": [
              "<Figure size 432x288 with 1 Axes>"
            ]
          },
          "metadata": {
            "tags": [],
            "needs_background": "light"
          }
        }
      ]
    },
    {
      "cell_type": "markdown",
      "metadata": {
        "id": "Sc9NlBbGqu0A"
      },
      "source": [
        "so the best value for c is 1"
      ]
    },
    {
      "cell_type": "code",
      "metadata": {
        "colab": {
          "base_uri": "https://localhost:8080/"
        },
        "id": "uR2dPl4xo55G",
        "outputId": "67029016-fd87-4bfc-db1e-84d3547d41a1"
      },
      "source": [
        "soft_model=svm.SVC(kernel='linear',C=1)\r\n",
        "soft_model.fit(train,y_train)"
      ],
      "execution_count": 23,
      "outputs": [
        {
          "output_type": "execute_result",
          "data": {
            "text/plain": [
              "SVC(C=1, break_ties=False, cache_size=200, class_weight=None, coef0=0.0,\n",
              "    decision_function_shape='ovr', degree=3, gamma='scale', kernel='linear',\n",
              "    max_iter=-1, probability=False, random_state=None, shrinking=True,\n",
              "    tol=0.001, verbose=False)"
            ]
          },
          "metadata": {
            "tags": []
          },
          "execution_count": 23
        }
      ]
    },
    {
      "cell_type": "code",
      "metadata": {
        "colab": {
          "base_uri": "https://localhost:8080/"
        },
        "id": "EgaVXFllmgcd",
        "outputId": "7f7026f7-f15f-4202-c6cf-a04b180aa8d7"
      },
      "source": [
        "print(\"train accuracy :\",metrics.accuracy_score(y_train,soft_model.predict(train)))\r\n",
        "print(\"test accuracy\",metrics.accuracy_score(y_test,soft_model.predict(test)))"
      ],
      "execution_count": 24,
      "outputs": [
        {
          "output_type": "stream",
          "text": [
            "train accuracy : 1.0\n",
            "test accuracy 1.0\n"
          ],
          "name": "stdout"
        }
      ]
    },
    {
      "cell_type": "code",
      "metadata": {
        "colab": {
          "base_uri": "https://localhost:8080/",
          "height": 286
        },
        "id": "W-3ER2_Fmj2m",
        "outputId": "596c47e4-02cd-4afb-acd4-83ae5a1c35af"
      },
      "source": [
        "z=soft_model.decision_function(xy).reshape(30,30)\r\n",
        "plt.contour(xx,yy,z,levels=[-1,0,1],colors='k',linestyles=['--'])\r\n",
        "plt.scatter(train[:,0],train[:,1],c=y_train,s=60,cmap='cool')\r\n",
        "plt.scatter(soft_model.support_vectors_[:,0],soft_model.support_vectors_[:,1],linewidths=2,facecolor='none',s=75)\r\n"
      ],
      "execution_count": 27,
      "outputs": [
        {
          "output_type": "execute_result",
          "data": {
            "text/plain": [
              "<matplotlib.collections.PathCollection at 0x7f4b1bc2a6a0>"
            ]
          },
          "metadata": {
            "tags": []
          },
          "execution_count": 27
        },
        {
          "output_type": "display_data",
          "data": {
            "image/png": "[encoded data removed]",
            "text/plain": [
              "<Figure size 432x288 with 1 Axes>"
            ]
          },
          "metadata": {
            "tags": [],
            "needs_background": "light"
          }
        }
      ]
    },
    {
      "cell_type": "markdown",
      "metadata": {
        "id": "U8-3s6KWmnCQ"
      },
      "source": [
        "**1-c :**"
      ]
    },
    {
      "cell_type": "code",
      "metadata": {
        "colab": {
          "base_uri": "https://localhost:8080/"
        },
        "id": "GQmi698bmqDe",
        "outputId": "986e3807-9d84-4aac-f91d-c056f13b6c70"
      },
      "source": [
        "# accuarcy of cross validation on rbf kernel\r\n",
        "np.mean(cross_val_score(svm.SVC(kernel='rbf'),train,y_train))"
      ],
      "execution_count": 33,
      "outputs": [
        {
          "output_type": "execute_result",
          "data": {
            "text/plain": [
              "0.97"
            ]
          },
          "metadata": {
            "tags": []
          },
          "execution_count": 33
        }
      ]
    },
    {
      "cell_type": "code",
      "metadata": {
        "colab": {
          "base_uri": "https://localhost:8080/"
        },
        "id": "4GmIZ1cTmsgM",
        "outputId": "d059fda9-50df-4764-b58a-6bb09cb54b9a"
      },
      "source": [
        "# accuarcy of cross validation on  polynomial kernel with degree 2\r\n",
        "poly_2_clf=\r\n",
        "np.mean(cross_val_score(svm.SVC(kernel='poly',degree=2),train,y_train))\r\n"
      ],
      "execution_count": 35,
      "outputs": [
        {
          "output_type": "execute_result",
          "data": {
            "text/plain": [
              "0.9200000000000002"
            ]
          },
          "metadata": {
            "tags": []
          },
          "execution_count": 35
        }
      ]
    },
    {
      "cell_type": "code",
      "metadata": {
        "colab": {
          "base_uri": "https://localhost:8080/"
        },
        "id": "gEv7YhnQmu28",
        "outputId": "1d97709c-fd44-4c1f-962d-3be84670502d"
      },
      "source": [
        "# accuarcy of cross validation on polynomial kernel with degree 3\r\n",
        "np.mean(cross_val_score(svm.SVC(kernel='poly',degree=3),train,y_train))"
      ],
      "execution_count": 30,
      "outputs": [
        {
          "output_type": "execute_result",
          "data": {
            "text/plain": [
              "0.97"
            ]
          },
          "metadata": {
            "tags": []
          },
          "execution_count": 30
        }
      ]
    },
    {
      "cell_type": "code",
      "metadata": {
        "colab": {
          "base_uri": "https://localhost:8080/"
        },
        "id": "bBQ8AskZmx8K",
        "outputId": "aa3c8f38-f358-4fd6-9442-881d559af293"
      },
      "source": [
        "# most accuracy belongs to polynomial kernel with degree 3 so :\r\n",
        "best_model = svm.SVC(kernel='poly',degree=3)\r\n",
        "best_model.fit(train,y_train)\r\n",
        "\r\n",
        "print(\" train accuracy : \",metrics.accuracy_score(y_train,best_model.predict(train)))\r\n",
        "print(\" test accuracy : \",metrics.accuracy_score(y_test,best_model.predict(test)))"
      ],
      "execution_count": 37,
      "outputs": [
        {
          "output_type": "stream",
          "text": [
            " train accuracy :  0.98\n",
            " test accuracy :  1.0\n"
          ],
          "name": "stdout"
        }
      ]
    },
    {
      "cell_type": "code",
      "metadata": {
        "colab": {
          "base_uri": "https://localhost:8080/",
          "height": 286
        },
        "id": "GX_p8vnym1uS",
        "outputId": "9b79427b-a5e4-41e2-b4ee-43feb5c54a13"
      },
      "source": [
        "z=poly_2_clf.decision_function(xy).reshape(30,30)\r\n",
        "plt.contour(xx,yy,z,levels=[-1,0,1],linestyles=['--'])\r\n",
        "plt.scatter(train[:,0],train[:,1],c=y_train,s=60,cmap='cool')\r\n",
        "plt.scatter(poly_2_clf.support_vectors_[:,0],poly_2_clf.support_vectors_[:,1],linewidths=2,facecolor='none',s=75)\r\n"
      ],
      "execution_count": 32,
      "outputs": [
        {
          "output_type": "execute_result",
          "data": {
            "text/plain": [
              "<matplotlib.collections.PathCollection at 0x7f4b1bc17390>"
            ]
          },
          "metadata": {
            "tags": []
          },
          "execution_count": 32
        },
        {
          "output_type": "display_data",
          "data": {
            "image/png": "[encoded data removed]",
            "text/plain": [
              "<Figure size 432x288 with 1 Axes>"
            ]
          },
          "metadata": {
            "tags": [],
            "needs_background": "light"
          }
        }
      ]
    },
    {
      "cell_type": "markdown",
      "metadata": {
        "id": "jyVORvpZFuVA"
      },
      "source": [
        "*  **2-a :**"
      ]
    },
    {
      "cell_type": "code",
      "metadata": {
        "id": "phZn1QdkDCeR"
      },
      "source": [
        "iris=pd.read_csv('/content/iris .csv')"
      ],
      "execution_count": null,
      "outputs": []
    },
    {
      "cell_type": "code",
      "metadata": {
        "id": "pNlzJEkwDQGD"
      },
      "source": [
        "x=iris.iloc[:,:-1]\r\n",
        "y=iris.iloc[:,4]\r\n",
        "x_train,x_test, y_train, y_test=train_test_split(x,y,test_size=0.30)"
      ],
      "execution_count": null,
      "outputs": []
    },
    {
      "cell_type": "code",
      "metadata": {
        "colab": {
          "base_uri": "https://localhost:8080/"
        },
        "id": "IM2LsCqeDV5O",
        "outputId": "f08bbf0b-4562-48e9-8781-fac3742a04c7"
      },
      "source": [
        "model=SVC()\r\n",
        "model.fit(x_train, y_train)\r\n",
        "# testing\r\n",
        "pred=model.predict(x_test)\r\n",
        "print(confusion_matrix(y_test,pred))\r\n",
        "print(classification_report(y_test, pred))"
      ],
      "execution_count": null,
      "outputs": [
        {
          "output_type": "stream",
          "text": [
            "[[16  0  0]\n",
            " [ 0 10  0]\n",
            " [ 0  6 13]]\n",
            "                 precision    recall  f1-score   support\n",
            "\n",
            "    Iris-setosa       1.00      1.00      1.00        16\n",
            "Iris-versicolor       0.62      1.00      0.77        10\n",
            " Iris-virginica       1.00      0.68      0.81        19\n",
            "\n",
            "       accuracy                           0.87        45\n",
            "      macro avg       0.88      0.89      0.86        45\n",
            "   weighted avg       0.92      0.87      0.87        45\n",
            "\n"
          ],
          "name": "stdout"
        }
      ]
    },
    {
      "cell_type": "code",
      "metadata": {
        "colab": {
          "base_uri": "https://localhost:8080/"
        },
        "id": "55_VMqz_E1IU",
        "outputId": "edf614d7-d5cc-4824-ec52-ec8ee1b0f421"
      },
      "source": [
        "y_train.shape"
      ],
      "execution_count": null,
      "outputs": [
        {
          "output_type": "execute_result",
          "data": {
            "text/plain": [
              "(104,)"
            ]
          },
          "metadata": {
            "tags": []
          },
          "execution_count": 5
        }
      ]
    },
    {
      "cell_type": "code",
      "metadata": {
        "id": "d0j8ozwMELKp"
      },
      "source": [
        "# validation\r\n",
        "x_train,x_valid, y_train, y_valid=train_test_split(x_train,y_train,test_size=0.25)"
      ],
      "execution_count": null,
      "outputs": []
    },
    {
      "cell_type": "code",
      "metadata": {
        "colab": {
          "base_uri": "https://localhost:8080/"
        },
        "id": "TlDZn4VYFIrg",
        "outputId": "48cda81d-0e08-4175-d208-4bf1834e20a1"
      },
      "source": [
        "model=SVC()\r\n",
        "model.fit(x_train, y_train)\r\n",
        "pred=model.predict(x_valid)\r\n",
        "print(confusion_matrix(y_valid,pred))\r\n",
        "print(classification_report(y_valid, pred))"
      ],
      "execution_count": null,
      "outputs": [
        {
          "output_type": "stream",
          "text": [
            "[[ 5  0  0]\n",
            " [ 0 13  0]\n",
            " [ 0  3  5]]\n",
            "                 precision    recall  f1-score   support\n",
            "\n",
            "    Iris-setosa       1.00      1.00      1.00         5\n",
            "Iris-versicolor       0.81      1.00      0.90        13\n",
            " Iris-virginica       1.00      0.62      0.77         8\n",
            "\n",
            "       accuracy                           0.88        26\n",
            "      macro avg       0.94      0.88      0.89        26\n",
            "   weighted avg       0.91      0.88      0.88        26\n",
            "\n"
          ],
          "name": "stdout"
        }
      ]
    },
    {
      "cell_type": "markdown",
      "metadata": {
        "id": "rfsyrAByFWrY"
      },
      "source": [
        "so accuracy on testset is \" 87 % \" and accuracy on validationset is \" 88 % \" "
      ]
    },
    {
      "cell_type": "markdown",
      "metadata": {
        "id": "18OA_zWhF4S5"
      },
      "source": [
        "*  **2-b :**"
      ]
    },
    {
      "cell_type": "code",
      "metadata": {
        "id": "C-ZHdHBkN_Ko"
      },
      "source": [
        "ac = []\r\n",
        "c = []\r\n",
        "x0_train,x0_test, y0_train, y0_test=train_test_split(x,y,test_size=0.30)\r\n",
        "x0_train , x0_valid , y0_train , y0_valid = train_test_split(x0_train,y0_train,test_size=0.25)\r\n",
        "for i in range(1 , 200):\r\n",
        "  svclassifier = SVC(kernel='linear', C = i/100)\r\n",
        "  svclassifier.fit(x0_train, y0_train)\r\n",
        "  y0_pred = svclassifier.predict(x0_valid)\r\n",
        "  c.append(i/100)\r\n",
        "  ac.append(accuracy_score(y0_valid, y0_pred))"
      ],
      "execution_count": null,
      "outputs": []
    },
    {
      "cell_type": "code",
      "metadata": {
        "colab": {
          "base_uri": "https://localhost:8080/",
          "height": 282
        },
        "id": "bx5s3N-hSQdg",
        "outputId": "8e3919bf-919f-42cf-e3b0-85a20f36bcd5"
      },
      "source": [
        "import matplotlib.pyplot as plt\r\n",
        "plt.plot(c,ac)"
      ],
      "execution_count": null,
      "outputs": [
        {
          "output_type": "execute_result",
          "data": {
            "text/plain": [
              "[<matplotlib.lines.Line2D at 0x7fc4834bd4a8>]"
            ]
          },
          "metadata": {
            "tags": []
          },
          "execution_count": 57
        },
        {
          "output_type": "display_data",
          "data": {
            "image/png": "[encoded data removed]",
            "text/plain": [
              "<Figure size 432x288 with 1 Axes>"
            ]
          },
          "metadata": {
            "tags": [],
            "needs_background": "light"
          }
        }
      ]
    },
    {
      "cell_type": "markdown",
      "metadata": {
        "id": "mJmHwrHUUcV2"
      },
      "source": [
        "**according to the plot the best c-value for soft svm is from 0.5 to 1.12 which gives us the accuracy of 96% \r\n",
        "so we use c=1 for this part**"
      ]
    },
    {
      "cell_type": "code",
      "metadata": {
        "colab": {
          "base_uri": "https://localhost:8080/"
        },
        "id": "R4wnH6iUVsDZ",
        "outputId": "ebbac1bd-69b7-458d-e2ae-319c971f530e"
      },
      "source": [
        "x0_train,x0_test, y0_train, y0_test=train_test_split(x,y,test_size=0.30)\r\n",
        "x0_train , x0_valid , y0_train , y0_valid = train_test_split(x0_train,y0_train,test_size=0.25)\r\n",
        "svclassifier = SVC(kernel='linear', C = 1)\r\n",
        "svclassifier.fit(x0_train, y0_train)"
      ],
      "execution_count": null,
      "outputs": [
        {
          "output_type": "execute_result",
          "data": {
            "text/plain": [
              "SVC(C=1, break_ties=False, cache_size=200, class_weight=None, coef0=0.0,\n",
              "    decision_function_shape='ovr', degree=3, gamma='scale', kernel='linear',\n",
              "    max_iter=-1, probability=False, random_state=None, shrinking=True,\n",
              "    tol=0.001, verbose=False)"
            ]
          },
          "metadata": {
            "tags": []
          },
          "execution_count": 58
        }
      ]
    },
    {
      "cell_type": "code",
      "metadata": {
        "colab": {
          "base_uri": "https://localhost:8080/"
        },
        "id": "Ad4iY-_PVGgN",
        "outputId": "5ba3c576-80c7-4bf3-d455-cc260dc06177"
      },
      "source": [
        "# validation accuracy\r\n",
        "y0_pred = svclassifier.predict(x0_valid)\r\n",
        "print(classification_report(y0_valid, y0_pred))"
      ],
      "execution_count": null,
      "outputs": [
        {
          "output_type": "stream",
          "text": [
            "                 precision    recall  f1-score   support\n",
            "\n",
            "    Iris-setosa       1.00      1.00      1.00         8\n",
            "Iris-versicolor       1.00      1.00      1.00         9\n",
            " Iris-virginica       1.00      1.00      1.00         9\n",
            "\n",
            "       accuracy                           1.00        26\n",
            "      macro avg       1.00      1.00      1.00        26\n",
            "   weighted avg       1.00      1.00      1.00        26\n",
            "\n"
          ],
          "name": "stdout"
        }
      ]
    },
    {
      "cell_type": "code",
      "metadata": {
        "colab": {
          "base_uri": "https://localhost:8080/"
        },
        "id": "5TWNmu0UWEBl",
        "outputId": "a5e53049-a16b-47a5-973b-8deae816d356"
      },
      "source": [
        "# test accuracy\r\n",
        "y00_pred = svclassifier.predict(x0_test)\r\n",
        "print(classification_report(y0_test, y00_pred))"
      ],
      "execution_count": null,
      "outputs": [
        {
          "output_type": "stream",
          "text": [
            "                 precision    recall  f1-score   support\n",
            "\n",
            "    Iris-setosa       1.00      1.00      1.00        19\n",
            "Iris-versicolor       1.00      0.86      0.92        14\n",
            " Iris-virginica       0.86      1.00      0.92        12\n",
            "\n",
            "       accuracy                           0.96        45\n",
            "      macro avg       0.95      0.95      0.95        45\n",
            "   weighted avg       0.96      0.96      0.96        45\n",
            "\n"
          ],
          "name": "stdout"
        }
      ]
    },
    {
      "cell_type": "markdown",
      "metadata": {
        "id": "lAVzGU9xN7MM"
      },
      "source": [
        "*  **2-c :**"
      ]
    },
    {
      "cell_type": "code",
      "metadata": {
        "id": "rfZuvhgVFsG9"
      },
      "source": [
        "svclassifier = SVC(kernel='poly', degree=8)\r\n",
        "x1_train,x1_test, y1_train, y1_test=train_test_split(x,y,test_size=0.30)\r\n",
        "x1_train , x1_valid , y1_train , y1_valid = train_test_split(x1_train,y1_train,test_size=0.25)\r\n",
        "svclassifier.fit(x1_train, y1_train)\r\n",
        "y1_pred = svclassifier.predict(x1_valid)"
      ],
      "execution_count": null,
      "outputs": []
    },
    {
      "cell_type": "code",
      "metadata": {
        "colab": {
          "base_uri": "https://localhost:8080/"
        },
        "id": "8jQQRzMWJLxC",
        "outputId": "3be25f95-73db-4458-d4f5-9a08d2fbbff9"
      },
      "source": [
        "print(confusion_matrix(y1_valid, y1_pred))\r\n",
        "print(classification_report(y1_valid, y1_pred))"
      ],
      "execution_count": null,
      "outputs": [
        {
          "output_type": "stream",
          "text": [
            "[[9 0 0]\n",
            " [0 9 1]\n",
            " [0 0 7]]\n",
            "                 precision    recall  f1-score   support\n",
            "\n",
            "    Iris-setosa       1.00      1.00      1.00         9\n",
            "Iris-versicolor       1.00      0.90      0.95        10\n",
            " Iris-virginica       0.88      1.00      0.93         7\n",
            "\n",
            "       accuracy                           0.96        26\n",
            "      macro avg       0.96      0.97      0.96        26\n",
            "   weighted avg       0.97      0.96      0.96        26\n",
            "\n"
          ],
          "name": "stdout"
        }
      ]
    },
    {
      "cell_type": "markdown",
      "metadata": {
        "id": "8qn19vGdLkcS"
      },
      "source": [
        "so validation accuracy by using polynomial kernel is 96%"
      ]
    },
    {
      "cell_type": "code",
      "metadata": {
        "id": "nzQa4RP1JuJ_"
      },
      "source": [
        "svclassifier = SVC(kernel='rbf')\r\n",
        "x2_train,x2_test, y2_train, y2_test=train_test_split(x,y,test_size=0.30)\r\n",
        "x2_train , x2_valid , y2_train , y2_valid = train_test_split(x2_train,y2_train,test_size=0.25)\r\n",
        "svclassifier.fit(x2_train, y2_train)\r\n",
        "y2_pred = svclassifier.predict(x2_valid)"
      ],
      "execution_count": null,
      "outputs": []
    },
    {
      "cell_type": "code",
      "metadata": {
        "colab": {
          "base_uri": "https://localhost:8080/"
        },
        "id": "1oMQWfLWKt77",
        "outputId": "8518c301-8371-4917-d06f-078850b20b21"
      },
      "source": [
        "print(confusion_matrix(y2_valid, y2_pred))\r\n",
        "print(classification_report(y2_valid, y2_pred))"
      ],
      "execution_count": null,
      "outputs": [
        {
          "output_type": "stream",
          "text": [
            "[[10  0  0]\n",
            " [ 0  7  0]\n",
            " [ 0  0  9]]\n",
            "                 precision    recall  f1-score   support\n",
            "\n",
            "    Iris-setosa       1.00      1.00      1.00        10\n",
            "Iris-versicolor       1.00      1.00      1.00         7\n",
            " Iris-virginica       1.00      1.00      1.00         9\n",
            "\n",
            "       accuracy                           1.00        26\n",
            "      macro avg       1.00      1.00      1.00        26\n",
            "   weighted avg       1.00      1.00      1.00        26\n",
            "\n"
          ],
          "name": "stdout"
        }
      ]
    },
    {
      "cell_type": "markdown",
      "metadata": {
        "id": "xebJswNjLoro"
      },
      "source": [
        " validation accuracy by using rbf kernel is 100%\r\n",
        "\r\n",
        "  **so the rbf kernel is better then the otherone**"
      ]
    },
    {
      "cell_type": "code",
      "metadata": {
        "colab": {
          "base_uri": "https://localhost:8080/"
        },
        "id": "Pe6TZMylLuVq",
        "outputId": "5262c5ed-934c-42fd-b0e5-c393a8619eeb"
      },
      "source": [
        "# we've seen the accuracy on trainigset (validation) so now is testset's turn :\r\n",
        "y22_pred = svclassifier.predict(x2_test)\r\n",
        "print(confusion_matrix(y2_test, y22_pred))\r\n",
        "print(classification_report(y2_test, y22_pred))"
      ],
      "execution_count": null,
      "outputs": [
        {
          "output_type": "stream",
          "text": [
            "[[10  0  0]\n",
            " [ 0 15  0]\n",
            " [ 0  1 19]]\n",
            "                 precision    recall  f1-score   support\n",
            "\n",
            "    Iris-setosa       1.00      1.00      1.00        10\n",
            "Iris-versicolor       0.94      1.00      0.97        15\n",
            " Iris-virginica       1.00      0.95      0.97        20\n",
            "\n",
            "       accuracy                           0.98        45\n",
            "      macro avg       0.98      0.98      0.98        45\n",
            "   weighted avg       0.98      0.98      0.98        45\n",
            "\n"
          ],
          "name": "stdout"
        }
      ]
    },
    {
      "cell_type": "markdown",
      "metadata": {
        "id": "LXAom7-aM6Fr"
      },
      "source": [
        "so for rbf kernel we have 45 soppurt vectors and 98 % accuracy on testset"
      ]
    },
    {
      "cell_type": "markdown",
      "metadata": {
        "id": "NoFjqS26YQz4"
      },
      "source": [
        "**2-d :**"
      ]
    },
    {
      "cell_type": "code",
      "metadata": {
        "id": "Z960vjTgM4WW"
      },
      "source": [
        "ac3 = []\r\n",
        "c3 = []\r\n",
        "x3_train,x3_test, y3_train, y3_test=train_test_split(x,y,test_size=0.30)\r\n",
        "x3_train , x3_valid , y3_train , y3_valid = train_test_split(x3_train,y3_train,test_size=0.25)\r\n",
        "for i in range(1 , 100):\r\n",
        "  svclassifier = SVC(kernel='rbf', C = i/100)\r\n",
        "  svclassifier.fit(x3_train, y3_train)\r\n",
        "  y3_pred = svclassifier.predict(x3_valid)\r\n",
        "  c3.append(i/100)\r\n",
        "  ac3.append(accuracy_score(y3_valid, y3_pred))"
      ],
      "execution_count": null,
      "outputs": []
    },
    {
      "cell_type": "code",
      "metadata": {
        "colab": {
          "base_uri": "https://localhost:8080/",
          "height": 282
        },
        "id": "IOSAHbXzYcWD",
        "outputId": "a4217d41-6bd2-4899-b9b2-5df84c63a0bb"
      },
      "source": [
        "import matplotlib.pyplot as plt\r\n",
        "plt.plot(c3,ac3)"
      ],
      "execution_count": null,
      "outputs": [
        {
          "output_type": "execute_result",
          "data": {
            "text/plain": [
              "[<matplotlib.lines.Line2D at 0x7fc4833b8e10>]"
            ]
          },
          "metadata": {
            "tags": []
          },
          "execution_count": 65
        },
        {
          "output_type": "display_data",
          "data": {
            "image/png": "[encoded data removed]",
            "text/plain": [
              "<Figure size 432x288 with 1 Axes>"
            ]
          },
          "metadata": {
            "tags": [],
            "needs_background": "light"
          }
        }
      ]
    },
    {
      "cell_type": "markdown",
      "metadata": {
        "id": "CogtA-RfZ3cE"
      },
      "source": [
        "according to plot we use c = 0.5"
      ]
    },
    {
      "cell_type": "code",
      "metadata": {
        "colab": {
          "base_uri": "https://localhost:8080/"
        },
        "id": "Zvh-yZ-7Yf9F",
        "outputId": "6ddabaa2-9f57-4820-9696-744398912660"
      },
      "source": [
        "x3_train,x3_test, y3_train, y3_test=train_test_split(x,y,test_size=0.30)\r\n",
        "x3_train , x3_valid , y3_train , y3_valid = train_test_split(x3_train,y3_train,test_size=0.25)\r\n",
        "svclassifier = SVC(kernel='linear', C = 0.5)\r\n",
        "svclassifier.fit(x3_train, y3_train)"
      ],
      "execution_count": null,
      "outputs": [
        {
          "output_type": "execute_result",
          "data": {
            "text/plain": [
              "SVC(C=0.5, break_ties=False, cache_size=200, class_weight=None, coef0=0.0,\n",
              "    decision_function_shape='ovr', degree=3, gamma='scale', kernel='linear',\n",
              "    max_iter=-1, probability=False, random_state=None, shrinking=True,\n",
              "    tol=0.001, verbose=False)"
            ]
          },
          "metadata": {
            "tags": []
          },
          "execution_count": 66
        }
      ]
    },
    {
      "cell_type": "code",
      "metadata": {
        "colab": {
          "base_uri": "https://localhost:8080/"
        },
        "id": "f9QPCQfhYlIX",
        "outputId": "7f5f6c65-4c6e-46c6-f60b-4498df34c83d"
      },
      "source": [
        "# validation accuracy\r\n",
        "y3_pred = svclassifier.predict(x3_valid)\r\n",
        "print(classification_report(y3_valid, y3_pred))"
      ],
      "execution_count": null,
      "outputs": [
        {
          "output_type": "stream",
          "text": [
            "                 precision    recall  f1-score   support\n",
            "\n",
            "    Iris-setosa       1.00      1.00      1.00        12\n",
            "Iris-versicolor       1.00      0.88      0.93         8\n",
            " Iris-virginica       0.86      1.00      0.92         6\n",
            "\n",
            "       accuracy                           0.96        26\n",
            "      macro avg       0.95      0.96      0.95        26\n",
            "   weighted avg       0.97      0.96      0.96        26\n",
            "\n"
          ],
          "name": "stdout"
        }
      ]
    },
    {
      "cell_type": "code",
      "metadata": {
        "colab": {
          "base_uri": "https://localhost:8080/"
        },
        "id": "SdPCEmrzYpLr",
        "outputId": "b2300af3-4d10-4960-e614-3397fe19dfb3"
      },
      "source": [
        "# test accuracy\r\n",
        "y33_pred = svclassifier.predict(x3_test)\r\n",
        "print(classification_report(y3_test, y33_pred))"
      ],
      "execution_count": null,
      "outputs": [
        {
          "output_type": "stream",
          "text": [
            "                 precision    recall  f1-score   support\n",
            "\n",
            "    Iris-setosa       1.00      1.00      1.00        13\n",
            "Iris-versicolor       0.85      1.00      0.92        11\n",
            " Iris-virginica       1.00      0.90      0.95        21\n",
            "\n",
            "       accuracy                           0.96        45\n",
            "      macro avg       0.95      0.97      0.96        45\n",
            "   weighted avg       0.96      0.96      0.96        45\n",
            "\n"
          ],
          "name": "stdout"
        }
      ]
    }
  ]
}